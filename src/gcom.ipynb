{
 "cells": [
  {
   "cell_type": "markdown",
   "id": "4db8e6ac-601e-45ab-8d61-890caaac5887",
   "metadata": {},
   "source": [
    "# GCOM Practice"
   ]
  },
  {
   "cell_type": "markdown",
   "id": "b071dd9e-9e8b-4a58-867a-00b1b2afa289",
   "metadata": {},
   "source": [
    "This notebook demonstrates connecting, downloading and translating GCOM satellite data from [G-Portal](https://gportal.jaxa.jp/gpr/)."
   ]
  },
  {
   "cell_type": "markdown",
   "id": "1db54064-64b4-4793-bfa0-0a697dd5136b",
   "metadata": {},
   "source": [
    "## Prerequisites\n",
    "\n",
    "You're required to have G-Portal account. You can register from [here](https://gportal.jaxa.jp/gpr/user/regist1)."
   ]
  },
  {
   "cell_type": "markdown",
   "id": "252e9828-25ff-438e-bfe2-85c6d6e26748",
   "metadata": {},
   "source": [
    "# Connect to FTP server\n",
    "\n",
    "The first step is to connect to the FTP server where they host the satellite data in HDF5 format.\n",
    "Here I use `ftplib` module."
   ]
  },
  {
   "cell_type": "code",
   "execution_count": 1,
   "id": "22b2ad56-93bd-4f50-adff-44ab9b0c44b4",
   "metadata": {},
   "outputs": [],
   "source": [
    "# See: https://gportal.jaxa.jp/gpr/assets/mng_upload/COMMON/upload/GPortalUserManual_ja.pdf for the details.\n",
    "host = 'ftp.gportal.jaxa.jp'\n",
    "user = ''\n",
    "passwd = 'anonymous' # fixed password for all the users."
   ]
  },
  {
   "cell_type": "code",
   "execution_count": null,
   "id": "2abd7993-80b2-405e-a0f2-ef6574e92f3e",
   "metadata": {
    "scrolled": true
   },
   "outputs": [],
   "source": [
    "from ftplib import FTP\n",
    "ftp = FTP(host)\n",
    "ftp.login(user, passwd)"
   ]
  },
  {
   "cell_type": "markdown",
   "id": "e06ea9ff-aa7d-4620-bf50-8cfcf751e790",
   "metadata": {},
   "source": [
    "Let's check if it's connected by listing directory contents."
   ]
  },
  {
   "cell_type": "code",
   "execution_count": 12,
   "id": "e7ae2398-9534-4c67-91e5-f501c1ae4b14",
   "metadata": {},
   "outputs": [
    {
     "name": "stdout",
     "output_type": "stream",
     "text": [
      "drwxr-xr-x   5 3498     3498         4096 May 29  2018 nrt\n",
      "drwxr-xr-x 317 3498     3498       131072 Oct 30 08:37 order\n",
      "drwxr-xr-x 1647 3498     3498       131072 Oct 30 12:54 process\n",
      "drwxr-xr-x  17 3498     3498         4096 Mar 18  2020 standard\n"
     ]
    }
   ],
   "source": [
    "ftp.dir()"
   ]
  },
  {
   "cell_type": "markdown",
   "id": "b0d436b4-ea3a-41d3-b174-dcec12641255",
   "metadata": {},
   "source": [
    "## Download GCOM data\n",
    "\n",
    "Now let's try downloading GCOM-C LST (Land Surface Temperature) L3 data specifying year/month/date."
   ]
  },
  {
   "cell_type": "code",
   "execution_count": 50,
   "id": "1a20fe0c-ccb9-4570-8fc0-05ec809e1a11",
   "metadata": {},
   "outputs": [],
   "source": [
    "def download_gcomc_lst_product(ftp: FTP, year: int, month: int, date: int):\n",
    "    \"\"\"\n",
    "    Downloads GCOM-C LST (Land Surface Temperature) product ver. 3\n",
    "    Parameters:\n",
    "    - ftp\n",
    "    - year\n",
    "    - month\n",
    "    - date\n",
    "    \"\"\"\n",
    "    base = 'downloads'\n",
    "\n",
    "    import os\n",
    "    dir = \"standard/GCOM-C/GCOM-C.SGLI/L3.LAND.LST_/3/{:d}/{:02d}\".format(year, month)\n",
    "    os.makedirs(os.path.join(base, dir), exist_ok=True)\n",
    "\n",
    "    # Ascending data\n",
    "    filename_a = 'GC1SG1_{:d}{:02d}{:02d}A01D_D0000_3MSG_LST_F_3000.h5'.format(year, month, date)\n",
    "    with open(os.path.join(base, dir, filename_a), 'wb') as f:\n",
    "        ftp.retrbinary(f\"RETR /{dir}/{filename_a}\", f.write)\n",
    "\n",
    "    # Descending data\n",
    "    filename_d = 'GC1SG1_{:d}{:02d}{:02d}D01D_D0000_3MSG_LST_F_3000.h5'.format(year, month, date)\n",
    "    with open(os.path.join(base, dir, filename_d), 'wb') as f:\n",
    "        ftp.retrbinary(f\"RETR /{dir}/{filename_d}\", f.write)"
   ]
  },
  {
   "cell_type": "code",
   "execution_count": 53,
   "id": "55d054b6-672d-4019-8644-4aeaecbd6cd3",
   "metadata": {},
   "outputs": [],
   "source": [
    "for date in range(1, 5):\n",
    "    # try downloading for the whole September data\n",
    "    download_gcomc_lst_product(ftp, 2023, 9, date)"
   ]
  },
  {
   "cell_type": "markdown",
   "id": "32d0ca74-fb62-4ae1-b6d0-c59195592d15",
   "metadata": {},
   "source": [
    "## GDAL Translate\n",
    "\n",
    "Now translate the downloaded HDF5 file into GeoTIFF using GDAL translate."
   ]
  },
  {
   "cell_type": "code",
   "execution_count": 49,
   "id": "0175eae2-2cd9-42d7-89fe-1d945b7137a8",
   "metadata": {},
   "outputs": [],
   "source": [
    "def translate_from_hdf_to_gtiff(year: int, month: int, date: int):\n",
    "    \"\"\"\n",
    "    Translates downloaded HDF file into GeoTIFF file\n",
    "    Parameters:\n",
    "    - year\n",
    "    - month\n",
    "    - date\n",
    "    \"\"\"\n",
    "    import os\n",
    "    from osgeo import gdal\n",
    "    downloaded_dir = \"downloads/standard/GCOM-C/GCOM-C.SGLI/L3.LAND.LST_/3/{:d}/{:02d}\".format(year, month)\n",
    "    output_dir = \"output/standard/GCOM-C/GCOM-C.SGLI/L3.LAND.LST_/3/{:d}/{:02d}\".format(year, month)\n",
    "    os.makedirs(output_dir, exist_ok=True)\n",
    "\n",
    "    # Ascending data\n",
    "    downloaded_filename_a = \"GC1SG1_{:d}{:02d}{:02d}A01D_D0000_3MSG_LST_F_3000.h5\".format(year, month, date)\n",
    "    downloaded_a = gdal.Open(os.path.join(downloaded_dir, downloaded_filename_a), gdal.GA_ReadOnly)\n",
    "    image_ds_a = gdal.Open(downloaded_a.GetSubDatasets()[0][0], gdal.GA_ReadOnly)\n",
    "    image_ds_a.GetRasterBand(1).SetScale(0.02)\n",
    "    image_ds_a.GetRasterBand(1).SetOffset(0)\n",
    "    \n",
    "    output_filename_a = \"GC1SG1_{:d}{:02d}{:02d}A01D_D0000_3MSG_LST_F_3000.tif\".format(year, month, date)\n",
    "    gdal.Translate(\n",
    "        os.path.join(output_dir, output_filename_a),\n",
    "        image_ds_a,\n",
    "        format=\"GTiff\",\n",
    "        outputSRS=\"EPSG:4326\",\n",
    "        outputBounds=[-180, 90, 180, -90],\n",
    "        noData=65535,\n",
    "        creationOptions=['COMPRESS=LZW'])\n",
    "\n",
    "    # Descending data\n",
    "    downloaded_filename_d = \"GC1SG1_{:d}{:02d}{:02d}D01D_D0000_3MSG_LST_F_3000.h5\".format(year, month, date)\n",
    "    downloaded_d = gdal.Open(os.path.join(downloaded_dir, downloaded_filename_d), gdal.GA_ReadOnly)\n",
    "    image_ds_d = gdal.Open(downloaded_d.GetSubDatasets()[0][0], gdal.GA_ReadOnly)\n",
    "    image_ds_d.GetRasterBand(1).SetScale(0.02)\n",
    "    image_ds_d.GetRasterBand(1).SetOffset(0)\n",
    "    \n",
    "    output_filename_d = \"GC1SG1_{:d}{:02d}{:02d}D01D_D0000_3MSG_LST_F_3000.tif\".format(year, month, date)\n",
    "    gdal.Translate(\n",
    "        os.path.join(output_dir, output_filename_d),\n",
    "        image_ds_d,\n",
    "        format=\"GTiff\",\n",
    "        outputSRS=\"EPSG:4326\",\n",
    "        outputBounds=[-180, 90, 180, -90],\n",
    "        noData=65535,\n",
    "        creationOptions=['COMPRESS=LZW'])"
   ]
  },
  {
   "cell_type": "code",
   "execution_count": 54,
   "id": "88ea2e75-73f6-44eb-82dd-7505dad14ddd",
   "metadata": {},
   "outputs": [],
   "source": [
    "for date in range(1, 5):\n",
    "    # translate HDF into GeoTIFF\n",
    "    translate_from_hdf_to_gtiff(2023, 9, date)"
   ]
  }
 ],
 "metadata": {
  "kernelspec": {
   "display_name": "Python 3 (ipykernel)",
   "language": "python",
   "name": "python3"
  },
  "language_info": {
   "codemirror_mode": {
    "name": "ipython",
    "version": 3
   },
   "file_extension": ".py",
   "mimetype": "text/x-python",
   "name": "python",
   "nbconvert_exporter": "python",
   "pygments_lexer": "ipython3",
   "version": "3.10.12"
  }
 },
 "nbformat": 4,
 "nbformat_minor": 5
}
