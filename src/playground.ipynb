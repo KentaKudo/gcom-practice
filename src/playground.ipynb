{
 "cells": [
  {
   "cell_type": "markdown",
   "id": "e427499e-71f3-4a37-b1a5-d2193bc94eaf",
   "metadata": {},
   "source": [
    "# Playground\n",
    "\n",
    "The notebook where random scripts and commands are placed."
   ]
  },
  {
   "cell_type": "code",
   "execution_count": null,
   "id": "fd9248b9-d2e4-421c-bcfa-c75397349a76",
   "metadata": {},
   "outputs": [],
   "source": [
    "from ftplib import FTP\n",
    "ftp = FTP('ftp.gportal.jaxa.jp')\n",
    "ftp.login('', 'anonymous')"
   ]
  },
  {
   "cell_type": "code",
   "execution_count": 3,
   "id": "5086b4cd-b434-4f8b-a3c6-d9093e5f7bed",
   "metadata": {},
   "outputs": [],
   "source": [
    "base = 'downloads'\n",
    "\n",
    "import os\n",
    "dir = \"standard/GCOM-C/GCOM-C.SGLI/L2.LAND.LST_/3/2023/09/01\"\n",
    "os.makedirs(os.path.join(base, dir), exist_ok=True)\n",
    "\n",
    "# Ascending data\n",
    "filename_a = 'GC1SG1_20230901A01D_T0628_L2SG_LST_Q_3000.h5'\n",
    "with open(os.path.join(base, dir, filename_a), 'wb') as f:\n",
    "    ftp.retrbinary(f\"RETR /{dir}/{filename_a}\", f.write)\n",
    "\n",
    "# Descending data\n",
    "filename_a = 'GC1SG1_20230901D01D_T0628_L2SG_LST_Q_3000.h5'\n",
    "with open(os.path.join(base, dir, filename_a), 'wb') as f:\n",
    "    ftp.retrbinary(f\"RETR /{dir}/{filename_a}\", f.write)"
   ]
  },
  {
   "cell_type": "code",
   "execution_count": 4,
   "id": "c4353876-be48-4e8e-9142-2542a6b5054a",
   "metadata": {},
   "outputs": [],
   "source": [
    "from osgeo import gdal\n",
    "downloaded_dir = \"downloads/standard/GCOM-C/GCOM-C.SGLI/L2.LAND.LST_/3/2023/09/01\"\n",
    "output_dir = \"output/standard/GCOM-C/GCOM-C.SGLI/L2.LAND.LST_/3/2023/09/01\"\n",
    "os.makedirs(output_dir, exist_ok=True)\n",
    "\n",
    "# Ascending data\n",
    "downloaded_filename_a = \"GC1SG1_20230901A01D_T0628_L2SG_LST_Q_3000.h5\"\n",
    "downloaded_a = gdal.Open(os.path.join(downloaded_dir, downloaded_filename_a), gdal.GA_ReadOnly)"
   ]
  },
  {
   "cell_type": "code",
   "execution_count": 5,
   "id": "a7371edd-d556-45dc-ac0a-d0895fd8e4a8",
   "metadata": {},
   "outputs": [
    {
     "data": {
      "text/plain": [
       "{'Geometry_data_Grid_interval': '0.0020833334 ',\n",
       " 'Geometry_data_Grid_interval_unit': 'deg',\n",
       " 'Geometry_data_Image_projection': 'EQA (sinusoidal equal area) projection from 0-deg longitude',\n",
       " 'Geometry_data_Lower_left_latitude': '20 ',\n",
       " 'Geometry_data_Lower_left_longitude': '106.41778 ',\n",
       " 'Geometry_data_Lower_right_latitude': '20 ',\n",
       " 'Geometry_data_Lower_right_longitude': '117.05956 ',\n",
       " 'Geometry_data_Number_of_lines': '4800 ',\n",
       " 'Geometry_data_Number_of_pixels': '4800 ',\n",
       " 'Geometry_data_Obs_time_Data_description': 'Observation time (hour)',\n",
       " 'Geometry_data_Obs_time_Error_DN': '-128 ',\n",
       " 'Geometry_data_Obs_time_Maximum_valid_DN': '127 ',\n",
       " 'Geometry_data_Obs_time_Minimum_valid_DN': '-127 ',\n",
       " 'Geometry_data_Obs_time_Offset': '14.593772 ',\n",
       " 'Geometry_data_Obs_time_Resampling_interval': '1 ',\n",
       " 'Geometry_data_Obs_time_Resampling_interval_unit': 'NA',\n",
       " 'Geometry_data_Obs_time_Slope': '0.0065730005 ',\n",
       " 'Geometry_data_Obs_time_Unit': 'hour',\n",
       " 'Geometry_data_Upper_left_latitude': '30 ',\n",
       " 'Geometry_data_Upper_left_longitude': '115.47005 ',\n",
       " 'Geometry_data_Upper_right_latitude': '30 ',\n",
       " 'Geometry_data_Upper_right_longitude': '127.01706 ',\n",
       " 'Global_attributes_Algorithm_developer': 'Japan Aerospace Exploration Agency (JAXA)',\n",
       " 'Global_attributes_Algorithm_version': '3.00',\n",
       " 'Global_attributes_Dataset_description': 'Land Surface Temperature (LST)',\n",
       " 'Global_attributes_Image_end_time': '20230901 15:26:02.400',\n",
       " 'Global_attributes_Image_start_time': '20230901 13:45:32.400',\n",
       " 'Global_attributes_Parameter_version': '000.02',\n",
       " 'Global_attributes_Product_file_name': 'GC1SG1_20230901A01D_T0628_L2SG_LST_Q_3000.h5',\n",
       " 'Global_attributes_Product_level': 'Level-2',\n",
       " 'Global_attributes_Product_name': 'Land surface temperature',\n",
       " 'Global_attributes_Product_version': '3000',\n",
       " 'Global_attributes_Satellite': 'Global Change Observation Mission - Climate (GCOM-C)',\n",
       " 'Global_attributes_Sensor': 'Second-generation Global Imager (SGLI)',\n",
       " 'Image_data_E01_Data_description': 'Land Surface Emissivity @ TI01',\n",
       " 'Image_data_E01_Error_DN': '255 ',\n",
       " 'Image_data_E01_Mask_for_statistics': '61459 ',\n",
       " 'Image_data_E01_Maximum_valid_DN': '254 ',\n",
       " 'Image_data_E01_Minimum_valid_DN': '0 ',\n",
       " 'Image_data_E01_Offset': '0.49000001 ',\n",
       " 'Image_data_E01_Slope': '0.0020000001 ',\n",
       " 'Image_data_E01_Unit': 'NA',\n",
       " 'Image_data_E02_Data_description': 'Land Surface Emissivity @ TI02',\n",
       " 'Image_data_E02_Error_DN': '255 ',\n",
       " 'Image_data_E02_Mask_for_statistics': '61459 ',\n",
       " 'Image_data_E02_Maximum_valid_DN': '254 ',\n",
       " 'Image_data_E02_Minimum_valid_DN': '0 ',\n",
       " 'Image_data_E02_Offset': '0.49000001 ',\n",
       " 'Image_data_E02_Slope': '0.0020000001 ',\n",
       " 'Image_data_E02_Unit': 'NA',\n",
       " 'Image_data_Grid_interval': '0.0020833334 ',\n",
       " 'Image_data_Grid_interval_unit': 'deg',\n",
       " 'Image_data_Image_projection': 'EQA (sinusoidal equal area) projection from 0-deg longitude',\n",
       " 'Image_data_LST_Data_description': 'Land Surface Temperature (LST)',\n",
       " 'Image_data_LST_Error_DN': '65535 ',\n",
       " 'Image_data_LST_Mask_for_statistics': '61459 ',\n",
       " 'Image_data_LST_Maximum_valid_DN': '65534 ',\n",
       " 'Image_data_LST_Minimum_valid_DN': '0 ',\n",
       " 'Image_data_LST_Offset': '0 ',\n",
       " 'Image_data_LST_Slope': '0.02 ',\n",
       " 'Image_data_LST_Unit': 'Kelvin',\n",
       " 'Image_data_Number_of_lines': '4800 ',\n",
       " 'Image_data_Number_of_pixels': '4800 ',\n",
       " 'Image_data_QA_flag_Data_description': '00:no input data; 01:land/water flag(0=land/1=water); 02:Spare; 03:no CLFG; 04:no VNR/SWR; 05:Snow; 06:Sensor zenith angle > 33; 07:Sensor zenith angle > 43; 08:TR1 < 0.6; 09:RES > 1[K]; 10:RES > 2[K]; 11:Probably Cloudy; 12:Cloudy; 13:TS out of range; 14:land/water flag(0=land/1=water); 15:no input data;',\n",
       " 'Image_data_QA_flag_Error_DN': '65535 ',\n",
       " 'Image_data_QA_flag_Mask_for_statistics': '0 ',\n",
       " 'Image_data_QA_flag_Maximum_valid_DN': '65534 ',\n",
       " 'Image_data_QA_flag_Minimum_valid_DN': '0 ',\n",
       " 'Image_data_QA_flag_Offset': '0 ',\n",
       " 'Image_data_QA_flag_Slope': '1 ',\n",
       " 'Image_data_QA_flag_Unit': 'NA',\n",
       " 'Level_1_attributes_Geometric_calibration': 'Original',\n",
       " 'Level_1_attributes_Operation_mode': 'OBD',\n",
       " 'Level_1_attributes_Radiometric_calibration': 'Original',\n",
       " 'Processing_attributes_Ancillary_data_information': 'GGLA_20230901120000.Rh,GGLA_20230901120000.Psea,GGLA_20230901120000.T,GGLA_20230901120000.PTW,GGLA_20230901180000.Rh,GGLA_20230901180000.Psea,GGLA_20230901180000.T,GGLA_20230901180000.PTW',\n",
       " 'Processing_attributes_Contact_point': 'JAXA/Earth Observation Research Center (EORC)',\n",
       " 'Processing_attributes_Input_files': 'GC1SG1_20230901A01D_T0628_L2SG_LTOAQ_2012.h5,GC1SG1_20230901A01D_T0628_L2SG_CLFGQ_3000.h5',\n",
       " 'Processing_attributes_Processing_organization': 'JAXA/GCOM-C science project',\n",
       " 'Processing_attributes_Processing_result': 'Good',\n",
       " 'Processing_attributes_Processing_UT': '20230902 09:34:47'}"
      ]
     },
     "execution_count": 5,
     "metadata": {},
     "output_type": "execute_result"
    }
   ],
   "source": [
    "downloaded_a.GetMetadata()"
   ]
  },
  {
   "cell_type": "code",
   "execution_count": 6,
   "id": "24357cbf-62be-4888-913d-2de40baf5998",
   "metadata": {},
   "outputs": [
    {
     "data": {
      "text/plain": [
       "[('HDF5:\"downloads/standard/GCOM-C/GCOM-C.SGLI/L2.LAND.LST_/3/2023/09/01/GC1SG1_20230901A01D_T0628_L2SG_LST_Q_3000.h5\"://Geometry_data/Obs_time',\n",
       "  '[4800x4800] //Geometry_data/Obs_time (8-bit signed character)'),\n",
       " ('HDF5:\"downloads/standard/GCOM-C/GCOM-C.SGLI/L2.LAND.LST_/3/2023/09/01/GC1SG1_20230901A01D_T0628_L2SG_LST_Q_3000.h5\"://Image_data/E01',\n",
       "  '[4800x4800] //Image_data/E01 (8-bit character)'),\n",
       " ('HDF5:\"downloads/standard/GCOM-C/GCOM-C.SGLI/L2.LAND.LST_/3/2023/09/01/GC1SG1_20230901A01D_T0628_L2SG_LST_Q_3000.h5\"://Image_data/E02',\n",
       "  '[4800x4800] //Image_data/E02 (8-bit character)'),\n",
       " ('HDF5:\"downloads/standard/GCOM-C/GCOM-C.SGLI/L2.LAND.LST_/3/2023/09/01/GC1SG1_20230901A01D_T0628_L2SG_LST_Q_3000.h5\"://Image_data/LST',\n",
       "  '[4800x4800] //Image_data/LST (16-bit unsigned integer)'),\n",
       " ('HDF5:\"downloads/standard/GCOM-C/GCOM-C.SGLI/L2.LAND.LST_/3/2023/09/01/GC1SG1_20230901A01D_T0628_L2SG_LST_Q_3000.h5\"://Image_data/QA_flag',\n",
       "  '[4800x4800] //Image_data/QA_flag (16-bit unsigned integer)')]"
      ]
     },
     "execution_count": 6,
     "metadata": {},
     "output_type": "execute_result"
    }
   ],
   "source": [
    "downloaded_a.GetSubDatasets()"
   ]
  },
  {
   "cell_type": "code",
   "execution_count": 7,
   "id": "7669d3b5-6b16-4bda-b19d-c8bf2af408fb",
   "metadata": {},
   "outputs": [
    {
     "data": {
      "text/plain": [
       "'HDF5:\"downloads/standard/GCOM-C/GCOM-C.SGLI/L2.LAND.LST_/3/2023/09/01/GC1SG1_20230901A01D_T0628_L2SG_LST_Q_3000.h5\"://Image_data/LST'"
      ]
     },
     "execution_count": 7,
     "metadata": {},
     "output_type": "execute_result"
    }
   ],
   "source": [
    "downloaded_a.GetSubDatasets()[3][0]"
   ]
  },
  {
   "cell_type": "code",
   "execution_count": 8,
   "id": "3b76af31-0e3c-4d79-933d-5a4101bc3a09",
   "metadata": {},
   "outputs": [
    {
     "data": {
      "text/plain": [
       "<osgeo.gdal.Dataset; proxy of <Swig Object of type 'GDALDatasetShadow *' at 0xffff7fd6cff0> >"
      ]
     },
     "execution_count": 8,
     "metadata": {},
     "output_type": "execute_result"
    }
   ],
   "source": [
    "image_ds_a = gdal.Open(downloaded_a.GetSubDatasets()[3][0], gdal.GA_ReadOnly)\n",
    "image_ds_a.GetRasterBand(1).SetScale(0.02)\n",
    "image_ds_a.GetRasterBand(1).SetOffset(0)\n",
    "\n",
    "output_filename_a = \"GC1SG1_20230901A01D_T0628_L2SG_LST_Q_3000.tif\"\n",
    "gdal.Translate(\n",
    "    os.path.join(output_dir, output_filename_a),\n",
    "    image_ds_a,\n",
    "    format=\"GTiff\",\n",
    "    outputSRS=\"EPSG:4326\",\n",
    "    outputBounds=[-180, 90, 180, -90],\n",
    "    noData=65535,\n",
    "    creationOptions=['COMPRESS=LZW'])"
   ]
  }
 ],
 "metadata": {
  "kernelspec": {
   "display_name": "Python 3 (ipykernel)",
   "language": "python",
   "name": "python3"
  },
  "language_info": {
   "codemirror_mode": {
    "name": "ipython",
    "version": 3
   },
   "file_extension": ".py",
   "mimetype": "text/x-python",
   "name": "python",
   "nbconvert_exporter": "python",
   "pygments_lexer": "ipython3",
   "version": "3.10.12"
  }
 },
 "nbformat": 4,
 "nbformat_minor": 5
}
