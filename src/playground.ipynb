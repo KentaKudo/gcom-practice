{
 "cells": [
  {
   "cell_type": "markdown",
   "id": "e427499e-71f3-4a37-b1a5-d2193bc94eaf",
   "metadata": {
    "editable": true,
    "slideshow": {
     "slide_type": ""
    },
    "tags": []
   },
   "source": [
    "# Playground\n",
    "\n",
    "The notebook where random scripts and commands are placed."
   ]
  },
  {
   "cell_type": "code",
   "execution_count": 1,
   "id": "a17cc194-2576-4285-be5f-417f31f5bee0",
   "metadata": {},
   "outputs": [],
   "source": [
    "import os\n",
    "from osgeo import gdal"
   ]
  },
  {
   "cell_type": "code",
   "execution_count": 2,
   "id": "fd9248b9-d2e4-421c-bcfa-c75397349a76",
   "metadata": {},
   "outputs": [],
   "source": [
    "from dotenv import load_dotenv\n",
    "load_dotenv()\n",
    "username = os.getenv('FTP_USERNAME')\n",
    "\n",
    "from ftplib import FTP\n",
    "ftp = FTP('ftp.gportal.jaxa.jp')\n",
    "ftp.login(username, 'anonymous');"
   ]
  },
  {
   "cell_type": "code",
   "execution_count": 3,
   "id": "d22c4e43-d3df-4954-a4ac-e25f34c07789",
   "metadata": {},
   "outputs": [],
   "source": [
    "tile = (7, 28)\n",
    "v, h = tile"
   ]
  },
  {
   "cell_type": "code",
   "execution_count": 4,
   "id": "5086b4cd-b434-4f8b-a3c6-d9093e5f7bed",
   "metadata": {},
   "outputs": [],
   "source": [
    "base = 'downloads'\n",
    "\n",
    "dir = \"standard/GCOM-C/GCOM-C.SGLI/L2.LAND.LST_/3/2023/09/01\"\n",
    "os.makedirs(os.path.join(base, dir), exist_ok=True)\n",
    "\n",
    "# Ascending data\n",
    "filename_a = 'GC1SG1_20230901A01D_T{:02d}{:02d}_L2SG_LST_Q_3000.h5'.format(v, h)\n",
    "with open(os.path.join(base, dir, filename_a), 'wb') as f:\n",
    "    ftp.retrbinary(f\"RETR /{dir}/{filename_a}\", f.write)\n",
    "\n",
    "# Descending data\n",
    "filename_a = 'GC1SG1_20230901D01D_T{:02d}{:02d}_L2SG_LST_Q_3000.h5'.format(v, h)\n",
    "with open(os.path.join(base, dir, filename_a), 'wb') as f:\n",
    "    ftp.retrbinary(f\"RETR /{dir}/{filename_a}\", f.write)"
   ]
  },
  {
   "cell_type": "code",
   "execution_count": 5,
   "id": "c4353876-be48-4e8e-9142-2542a6b5054a",
   "metadata": {},
   "outputs": [],
   "source": [
    "downloaded_dir = \"downloads/standard/GCOM-C/GCOM-C.SGLI/L2.LAND.LST_/3/2023/09/01\"\n",
    "output_dir = \"output/standard/GCOM-C/GCOM-C.SGLI/L2.LAND.LST_/3/2023/09/01\"\n",
    "os.makedirs(output_dir, exist_ok=True)\n",
    "\n",
    "# Ascending data\n",
    "downloaded_filename_a = \"GC1SG1_20230901A01D_T{:02d}{:02d}_L2SG_LST_Q_3000.h5\".format(v, h)\n",
    "downloaded_a = gdal.Open(os.path.join(downloaded_dir, downloaded_filename_a), gdal.GA_ReadOnly)\n",
    "\n",
    "# Descending data\n",
    "downloaded_filename_d = \"GC1SG1_20230901D01D_T{:02d}{:02d}_L2SG_LST_Q_3000.h5\".format(v, h)\n",
    "downloaded_d = gdal.Open(os.path.join(downloaded_dir, downloaded_filename_d), gdal.GA_ReadOnly)"
   ]
  },
  {
   "cell_type": "code",
   "execution_count": 6,
   "id": "a7371edd-d556-45dc-ac0a-d0895fd8e4a8",
   "metadata": {},
   "outputs": [
    {
     "data": {
      "text/plain": [
       "{'Geometry_data_Grid_interval': '0.0020833334 ',\n",
       " 'Geometry_data_Grid_interval_unit': 'deg',\n",
       " 'Geometry_data_Image_projection': 'EQA (sinusoidal equal area) projection from 0-deg longitude',\n",
       " 'Geometry_data_Lower_left_latitude': '10 ',\n",
       " 'Geometry_data_Lower_left_longitude': '101.54266 ',\n",
       " 'Geometry_data_Lower_right_latitude': '10 ',\n",
       " 'Geometry_data_Lower_right_longitude': '111.69693 ',\n",
       " 'Geometry_data_Number_of_lines': '4800 ',\n",
       " 'Geometry_data_Number_of_pixels': '4800 ',\n",
       " 'Geometry_data_Obs_time_Data_description': 'Observation time (hour)',\n",
       " 'Geometry_data_Obs_time_Error_DN': '-128 ',\n",
       " 'Geometry_data_Obs_time_Maximum_valid_DN': '127 ',\n",
       " 'Geometry_data_Obs_time_Minimum_valid_DN': '-127 ',\n",
       " 'Geometry_data_Obs_time_Offset': '2.6190002 ',\n",
       " 'Geometry_data_Obs_time_Resampling_interval': '1 ',\n",
       " 'Geometry_data_Obs_time_Resampling_interval_unit': 'NA',\n",
       " 'Geometry_data_Obs_time_Slope': '0.001 ',\n",
       " 'Geometry_data_Obs_time_Unit': 'hour',\n",
       " 'Geometry_data_Upper_left_latitude': '20 ',\n",
       " 'Geometry_data_Upper_left_longitude': '106.41778 ',\n",
       " 'Geometry_data_Upper_right_latitude': '20 ',\n",
       " 'Geometry_data_Upper_right_longitude': '117.05956 ',\n",
       " 'Global_attributes_Algorithm_developer': 'Japan Aerospace Exploration Agency (JAXA)',\n",
       " 'Global_attributes_Algorithm_version': '3.00',\n",
       " 'Global_attributes_Dataset_description': 'Land Surface Temperature (LST)',\n",
       " 'Global_attributes_Image_end_time': '20230901 02:42:25.200',\n",
       " 'Global_attributes_Image_start_time': '20230901 02:34:55.200',\n",
       " 'Global_attributes_Parameter_version': '000.02',\n",
       " 'Global_attributes_Product_file_name': 'GC1SG1_20230901D01D_T0728_L2SG_LST_Q_3000.h5',\n",
       " 'Global_attributes_Product_level': 'Level-2',\n",
       " 'Global_attributes_Product_name': 'Land surface temperature',\n",
       " 'Global_attributes_Product_version': '3000',\n",
       " 'Global_attributes_Satellite': 'Global Change Observation Mission - Climate (GCOM-C)',\n",
       " 'Global_attributes_Sensor': 'Second-generation Global Imager (SGLI)',\n",
       " 'Image_data_E01_Data_description': 'Land Surface Emissivity @ TI01',\n",
       " 'Image_data_E01_Error_DN': '255 ',\n",
       " 'Image_data_E01_Mask_for_statistics': '61459 ',\n",
       " 'Image_data_E01_Maximum_valid_DN': '254 ',\n",
       " 'Image_data_E01_Minimum_valid_DN': '0 ',\n",
       " 'Image_data_E01_Offset': '0.49000001 ',\n",
       " 'Image_data_E01_Slope': '0.0020000001 ',\n",
       " 'Image_data_E01_Unit': 'NA',\n",
       " 'Image_data_E02_Data_description': 'Land Surface Emissivity @ TI02',\n",
       " 'Image_data_E02_Error_DN': '255 ',\n",
       " 'Image_data_E02_Mask_for_statistics': '61459 ',\n",
       " 'Image_data_E02_Maximum_valid_DN': '254 ',\n",
       " 'Image_data_E02_Minimum_valid_DN': '0 ',\n",
       " 'Image_data_E02_Offset': '0.49000001 ',\n",
       " 'Image_data_E02_Slope': '0.0020000001 ',\n",
       " 'Image_data_E02_Unit': 'NA',\n",
       " 'Image_data_Grid_interval': '0.0020833334 ',\n",
       " 'Image_data_Grid_interval_unit': 'deg',\n",
       " 'Image_data_Image_projection': 'EQA (sinusoidal equal area) projection from 0-deg longitude',\n",
       " 'Image_data_LST_Data_description': 'Land Surface Temperature (LST)',\n",
       " 'Image_data_LST_Error_DN': '65535 ',\n",
       " 'Image_data_LST_Mask_for_statistics': '61459 ',\n",
       " 'Image_data_LST_Maximum_valid_DN': '65534 ',\n",
       " 'Image_data_LST_Minimum_valid_DN': '0 ',\n",
       " 'Image_data_LST_Offset': '0 ',\n",
       " 'Image_data_LST_Slope': '0.02 ',\n",
       " 'Image_data_LST_Unit': 'Kelvin',\n",
       " 'Image_data_Number_of_lines': '4800 ',\n",
       " 'Image_data_Number_of_pixels': '4800 ',\n",
       " 'Image_data_QA_flag_Data_description': '00:no input data; 01:land/water flag(0=land/1=water); 02:Spare; 03:no CLFG; 04:no VNR/SWR; 05:Snow; 06:Sensor zenith angle > 33; 07:Sensor zenith angle > 43; 08:TR1 < 0.6; 09:RES > 1[K]; 10:RES > 2[K]; 11:Probably Cloudy; 12:Cloudy; 13:TS out of range; 14:land/water flag(0=land/1=water); 15:no input data;',\n",
       " 'Image_data_QA_flag_Error_DN': '65535 ',\n",
       " 'Image_data_QA_flag_Mask_for_statistics': '0 ',\n",
       " 'Image_data_QA_flag_Maximum_valid_DN': '65534 ',\n",
       " 'Image_data_QA_flag_Minimum_valid_DN': '0 ',\n",
       " 'Image_data_QA_flag_Offset': '0 ',\n",
       " 'Image_data_QA_flag_Slope': '1 ',\n",
       " 'Image_data_QA_flag_Unit': 'NA',\n",
       " 'Level_1_attributes_Geometric_calibration': 'Original',\n",
       " 'Level_1_attributes_Operation_mode': 'OBD',\n",
       " 'Level_1_attributes_Radiometric_calibration': 'Original',\n",
       " 'Processing_attributes_Ancillary_data_information': 'GGLA_20230901000000.Rh,GGLA_20230901000000.Psea,GGLA_20230901000000.T,GGLA_20230901000000.PTW,GGLA_20230901060000.Rh,GGLA_20230901060000.Psea,GGLA_20230901060000.T,GGLA_20230901060000.PTW',\n",
       " 'Processing_attributes_Contact_point': 'JAXA/Earth Observation Research Center (EORC)',\n",
       " 'Processing_attributes_Input_files': 'GC1SG1_20230901D01D_T0728_L2SG_LTOAQ_2012.h5,GC1SG1_20230901D01D_T0728_L2SG_CLFGQ_3000.h5',\n",
       " 'Processing_attributes_Processing_organization': 'JAXA/GCOM-C science project',\n",
       " 'Processing_attributes_Processing_result': 'Fair',\n",
       " 'Processing_attributes_Processing_UT': '20230901 16:48:30'}"
      ]
     },
     "execution_count": 6,
     "metadata": {},
     "output_type": "execute_result"
    }
   ],
   "source": [
    "downloaded_d.GetMetadata()"
   ]
  },
  {
   "cell_type": "code",
   "execution_count": 38,
   "id": "24357cbf-62be-4888-913d-2de40baf5998",
   "metadata": {},
   "outputs": [
    {
     "data": {
      "text/plain": [
       "[('HDF5:\"downloads/standard/GCOM-C/GCOM-C.SGLI/L2.LAND.LST_/3/2023/09/01/GC1SG1_20230901A01D_T0529_L2SG_LST_Q_3000.h5\"://Geometry_data/Obs_time',\n",
       "  '[4800x4800] //Geometry_data/Obs_time (8-bit signed character)'),\n",
       " ('HDF5:\"downloads/standard/GCOM-C/GCOM-C.SGLI/L2.LAND.LST_/3/2023/09/01/GC1SG1_20230901A01D_T0529_L2SG_LST_Q_3000.h5\"://Image_data/E01',\n",
       "  '[4800x4800] //Image_data/E01 (8-bit character)'),\n",
       " ('HDF5:\"downloads/standard/GCOM-C/GCOM-C.SGLI/L2.LAND.LST_/3/2023/09/01/GC1SG1_20230901A01D_T0529_L2SG_LST_Q_3000.h5\"://Image_data/E02',\n",
       "  '[4800x4800] //Image_data/E02 (8-bit character)'),\n",
       " ('HDF5:\"downloads/standard/GCOM-C/GCOM-C.SGLI/L2.LAND.LST_/3/2023/09/01/GC1SG1_20230901A01D_T0529_L2SG_LST_Q_3000.h5\"://Image_data/LST',\n",
       "  '[4800x4800] //Image_data/LST (16-bit unsigned integer)'),\n",
       " ('HDF5:\"downloads/standard/GCOM-C/GCOM-C.SGLI/L2.LAND.LST_/3/2023/09/01/GC1SG1_20230901A01D_T0529_L2SG_LST_Q_3000.h5\"://Image_data/QA_flag',\n",
       "  '[4800x4800] //Image_data/QA_flag (16-bit unsigned integer)')]"
      ]
     },
     "execution_count": 38,
     "metadata": {},
     "output_type": "execute_result"
    }
   ],
   "source": [
    "downloaded_a.GetSubDatasets()"
   ]
  },
  {
   "cell_type": "code",
   "execution_count": 39,
   "id": "7669d3b5-6b16-4bda-b19d-c8bf2af408fb",
   "metadata": {},
   "outputs": [
    {
     "data": {
      "text/plain": [
       "'HDF5:\"downloads/standard/GCOM-C/GCOM-C.SGLI/L2.LAND.LST_/3/2023/09/01/GC1SG1_20230901A01D_T0529_L2SG_LST_Q_3000.h5\"://Image_data/LST'"
      ]
     },
     "execution_count": 39,
     "metadata": {},
     "output_type": "execute_result"
    }
   ],
   "source": [
    "downloaded_a.GetSubDatasets()[3][0]"
   ]
  },
  {
   "cell_type": "code",
   "execution_count": 8,
   "id": "3b76af31-0e3c-4d79-933d-5a4101bc3a09",
   "metadata": {},
   "outputs": [
    {
     "data": {
      "text/plain": [
       "<osgeo.gdal.Dataset; proxy of <Swig Object of type 'GDALDatasetShadow *' at 0xffff7fd6cff0> >"
      ]
     },
     "execution_count": 8,
     "metadata": {},
     "output_type": "execute_result"
    }
   ],
   "source": [
    "image_ds_a = gdal.Open(downloaded_a.GetSubDatasets()[3][0], gdal.GA_ReadOnly)\n",
    "image_ds_a.GetRasterBand(1).SetScale(0.02)\n",
    "image_ds_a.GetRasterBand(1).SetOffset(0)\n",
    "\n",
    "output_filename_a = \"GC1SG1_20230901A01D_T0728_L2SG_LST_Q_3000.tif\"\n",
    "gdal.Translate(\n",
    "    os.path.join(output_dir, output_filename_a),\n",
    "    image_ds_a,\n",
    "    format=\"GTiff\",\n",
    "    outputSRS=\"EPSG:4326\",\n",
    "    outputBounds=[-180, 90, 180, -90],\n",
    "    noData=65535,\n",
    "    creationOptions=['COMPRESS=LZW'])"
   ]
  },
  {
   "cell_type": "code",
   "execution_count": 38,
   "id": "e0656e67-b7b0-4209-84cc-10ec4b170c6e",
   "metadata": {},
   "outputs": [
    {
     "data": {
      "text/plain": [
       "[(106.41778, 20.0), (111.69693, 10.0)]"
      ]
     },
     "execution_count": 38,
     "metadata": {},
     "output_type": "execute_result"
    }
   ],
   "source": [
    "(upper_left_lng, upper_left_lat) = (\n",
    "    float(downloaded_d.GetMetadata()['Geometry_data_Upper_left_longitude']),\n",
    "    float(downloaded_d.GetMetadata()['Geometry_data_Upper_left_latitude'])\n",
    ")\n",
    "(lower_right_lng, lower_right_lat) = (\n",
    "    float(downloaded_d.GetMetadata()['Geometry_data_Lower_right_longitude']),\n",
    "    float(downloaded_d.GetMetadata()['Geometry_data_Lower_right_latitude'])\n",
    ")\n",
    "[(upper_left_lng, upper_left_lat), (lower_right_lng, lower_right_lat)]"
   ]
  },
  {
   "cell_type": "code",
   "execution_count": 39,
   "id": "3fd465fa-d208-45d2-bfae-7a3a62e4f9ab",
   "metadata": {},
   "outputs": [
    {
     "data": {
      "text/plain": [
       "[(11119492.95205246, 2223898.532891175),\n",
       " (12231442.22575281, 1111949.2664455874)]"
      ]
     },
     "execution_count": 39,
     "metadata": {},
     "output_type": "execute_result"
    }
   ],
   "source": [
    "r = 6371000\n",
    "d = 0.017453292519943295\n",
    "\n",
    "import math\n",
    "(lng1_proj, lat1_proj) = (r * d * upper_left_lng * math.cos(upper_left_lat * math.pi / 180), r * d * upper_left_lat)\n",
    "(lng2_proj, lat2_proj) = (r * d * lower_right_lng * math.cos(lower_right_lat * math.pi / 180), r * d * lower_right_lat)\n",
    "[(lng1_proj, lat1_proj), (lng2_proj, lat2_proj)]"
   ]
  },
  {
   "cell_type": "code",
   "execution_count": 40,
   "id": "7a5fe7b4-e438-48c1-a174-68aa755bc32c",
   "metadata": {},
   "outputs": [
    {
     "name": "stdout",
     "output_type": "stream",
     "text": [
      "Input file size is 4800, 4800\n",
      "0...10...20...30...40...50...60...70...80...90...100 - done.\n"
     ]
    }
   ],
   "source": [
    "!gdal_translate \\\n",
    "    -of Gtiff \\\n",
    "    -a_srs ESRI:53008 \\\n",
    "    -a_ullr 11119492.95205246 2223898.532891175 12231442.22575281 1111949.2664455874 \\\n",
    "    HDF5:\"downloads/standard/GCOM-C/GCOM-C.SGLI/L2.LAND.LST_/3/2023/09/01/GC1SG1_20230901D01D_T0728_L2SG_LST_Q_3000.h5\"://Image_data/LST \\\n",
    "    output/standard/GCOM-C/GCOM-C.SGLI/L2.LAND.LST_/3/2023/09/01/GC1SG1_20230901D01D_T0728_L2SG_LST_Q_3000.tif"
   ]
  },
  {
   "cell_type": "code",
   "execution_count": 41,
   "id": "eb6be917-7757-4607-9852-ff0a5bd890d9",
   "metadata": {},
   "outputs": [
    {
     "name": "stdout",
     "output_type": "stream",
     "text": [
      "Creating output file that is 9315P x 6003L.\n",
      "Processing output/standard/GCOM-C/GCOM-C.SGLI/L2.LAND.LST_/3/2023/09/01/GC1SG1_20230901D01D_T0728_L2SG_LST_Q_3000.tif [1/1] : 0...10...20...30...40...50...60...70...80...90...100 - done.\n"
     ]
    }
   ],
   "source": [
    "!gdalwarp -of Gtiff -t_srs EPSG:4326 \\\n",
    "    output/standard/GCOM-C/GCOM-C.SGLI/L2.LAND.LST_/3/2023/09/01/GC1SG1_20230901D01D_T0728_L2SG_LST_Q_3000.tif \\\n",
    "    output/standard/GCOM-C/GCOM-C.SGLI/L2.LAND.LST_/3/2023/09/01/GC1SG1_20230901D01D_T0728_L2SG_LST_Q_3000.reprojected.tif"
   ]
  },
  {
   "cell_type": "code",
   "execution_count": 12,
   "id": "7ebee294-1f64-4d3b-80a6-429a1629a539",
   "metadata": {},
   "outputs": [
    {
     "name": "stdout",
     "output_type": "stream",
     "text": [
      "Requirement already satisfied: h5py in /usr/local/lib/python3.10/dist-packages (3.10.0)\n",
      "Collecting scipy\n",
      "  Downloading scipy-1.11.3-cp310-cp310-manylinux_2_17_aarch64.manylinux2014_aarch64.whl.metadata (112 kB)\n",
      "\u001b[2K     \u001b[90m━━━━━━━━━━━━━━━━━━━━━━━━━━━━━━━━━━━━━━━\u001b[0m \u001b[32m112.9/112.9 kB\u001b[0m \u001b[31m4.7 MB/s\u001b[0m eta \u001b[36m0:00:00\u001b[0m\n",
      "\u001b[?25hRequirement already satisfied: numpy>=1.17.3 in /usr/local/lib/python3.10/dist-packages (from h5py) (1.26.1)\n",
      "Downloading scipy-1.11.3-cp310-cp310-manylinux_2_17_aarch64.manylinux2014_aarch64.whl (32.9 MB)\n",
      "\u001b[2K   \u001b[90m━━━━━━━━━━━━━━━━━━━━━━━━━━━━━━━━━━━━━━━━\u001b[0m \u001b[32m32.9/32.9 MB\u001b[0m \u001b[31m10.6 MB/s\u001b[0m eta \u001b[36m0:00:00\u001b[0m00:01\u001b[0m00:01\u001b[0m\n",
      "\u001b[?25hInstalling collected packages: scipy\n",
      "Successfully installed scipy-1.11.3\n",
      "\u001b[33mWARNING: Running pip as the 'root' user can result in broken permissions and conflicting behaviour with the system package manager. It is recommended to use a virtual environment instead: https://pip.pypa.io/warnings/venv\u001b[0m\u001b[33m\n",
      "\u001b[0m"
     ]
    }
   ],
   "source": [
    "!pip install h5py scipy"
   ]
  },
  {
   "cell_type": "code",
   "execution_count": 40,
   "id": "d888d9cd-db13-46f5-b59e-232a23b2811d",
   "metadata": {
    "scrolled": true
   },
   "outputs": [],
   "source": [
    "import h5py\n",
    "import numpy as np\n",
    "import matplotlib.pyplot as plt\n",
    "\n",
    "filename = os.path.join(downloaded_dir, downloaded_filename_a)\n",
    "\n",
    "# ■ HDF読込・表示\n",
    "with h5py.File(filename, 'r') as f:\n",
    "    Data0 = np.array(f['/Image_data/LST']).T"
   ]
  },
  {
   "cell_type": "code",
   "execution_count": 41,
   "id": "e635f817-0c1b-4c6d-a7e9-82495bb1579d",
   "metadata": {},
   "outputs": [
    {
     "data": {
      "image/png": "[encoded data removed]",
      "text/plain": [
       "<Figure size 640x480 with 2 Axes>"
      ]
     },
     "metadata": {},
     "output_type": "display_data"
    }
   ],
   "source": [
    "# ■ Display as is\n",
    "plt.imshow(Data0, vmin=0, vmax=65534, aspect='auto', cmap='jet')\n",
    "plt.colorbar()\n",
    "plt.show()"
   ]
  },
  {
   "cell_type": "code",
   "execution_count": 42,
   "id": "60b697a5-03d3-4f3c-9441-f0c27e571dcd",
   "metadata": {},
   "outputs": [
    {
     "data": {
      "text/plain": [
       "(array([[40.        , 40.        , 40.        , ..., 40.        ,\n",
       "         40.        , 40.        ],\n",
       "        [39.99791623, 39.99791623, 39.99791623, ..., 39.99791623,\n",
       "         39.99791623, 39.99791623],\n",
       "        [39.99583247, 39.99583247, 39.99583247, ..., 39.99583247,\n",
       "         39.99583247, 39.99583247],\n",
       "        ...,\n",
       "        [30.00416753, 30.00416753, 30.00416753, ..., 30.00416753,\n",
       "         30.00416753, 30.00416753],\n",
       "        [30.00208377, 30.00208377, 30.00208377, ..., 30.00208377,\n",
       "         30.00208377, 30.00208377],\n",
       "        [30.        , 30.        , 30.        , ..., 30.        ,\n",
       "         30.        , 30.        ]]),\n",
       " array([[143.59480183, 143.59752199, 143.60024216, ..., 156.64343439,\n",
       "         156.64615455, 156.64887472],\n",
       "        [143.59041999, 143.59314007, 143.59586015, ..., 156.63865437,\n",
       "         156.64137445, 156.64409453],\n",
       "        [143.58603861, 143.58875861, 143.59147861, ..., 156.63387485,\n",
       "         156.63659485, 156.63931485],\n",
       "        ...,\n",
       "        [127.02239384, 127.02480007, 127.0272063 , ..., 138.56507174,\n",
       "         138.56747796, 138.56988419],\n",
       "        [127.01972639, 127.02213257, 127.02453875, ..., 138.56216189,\n",
       "         138.56456807, 138.56697425],\n",
       "        [127.01705922, 127.01946535, 127.02187148, ..., 138.55925235,\n",
       "         138.56165848, 138.56406461]]))"
      ]
     },
     "execution_count": 42,
     "metadata": {},
     "output_type": "execute_result"
    }
   ],
   "source": [
    "import numpy as np\n",
    "import matplotlib.pyplot as plt\n",
    "\n",
    "# ■ 関心領域 投影前緯度経度\n",
    "LatRef = np.linspace(40, 30, 4800)\n",
    "LonRef = np.linspace(110, 120, 4800)\n",
    "LLroi_Lat = np.outer(LatRef, np.ones(4800))\n",
    "LLroi_Lon = 1 / np.cos(np.outer(LatRef, np.pi / 180)) * LonRef\n",
    "(LLroi_Lat, LLroi_Lon)"
   ]
  },
  {
   "cell_type": "code",
   "execution_count": 43,
   "id": "b43bc807-d2f3-4cc2-81b9-9ec26a55a697",
   "metadata": {},
   "outputs": [
    {
     "data": {
      "image/png": "[encoded data removed]",
      "text/plain": [
       "<Figure size 640x480 with 1 Axes>"
      ]
     },
     "metadata": {},
     "output_type": "display_data"
    }
   ],
   "source": [
    "# ■ 散布画像表示\n",
    "plt.scatter(LLroi_Lon.flatten(), LLroi_Lat.flatten(), s=1)\n",
    "plt.grid()\n",
    "plt.show()"
   ]
  },
  {
   "cell_type": "code",
   "execution_count": 44,
   "id": "f00f01a5-4f29-406f-8707-2bb85a6b8ed0",
   "metadata": {},
   "outputs": [
    {
     "data": {
      "image/png": "[encoded data removed]",
      "text/plain": [
       "<Figure size 640x480 with 2 Axes>"
      ]
     },
     "metadata": {},
     "output_type": "display_data"
    }
   ],
   "source": [
    "# ■ 関心領域 投影前緯度経度\n",
    "LatRef = np.linspace(40, 30, 4800)\n",
    "LonRef = np.linspace(110, 120, 4800)\n",
    "LLroi = {}\n",
    "LLroi['Lat'] = np.outer(LatRef, np.ones(4800))\n",
    "LLroi['Lon'] = 1 / np.cos(np.outer(LatRef, np.pi / 180)) * LonRef\n",
    "\n",
    "# ■ データの抽出\n",
    "ROI = {}\n",
    "ROI['Lat'] = [35.33, 35.81]\n",
    "ROI['Lon'] = [139.53, 140.35]\n",
    "IDX = np.where((LLroi['Lat'] >= ROI['Lat'][0] - 0.05) &\n",
    "               (LLroi['Lat'] <= ROI['Lat'][1] + 0.05) &\n",
    "               (LLroi['Lon'] >= ROI['Lon'][0] - 0.05) &\n",
    "               (LLroi['Lon'] <= ROI['Lon'][1] + 0.05))\n",
    "\n",
    "# ■ 出力グリッド\n",
    "DDeg = 10 / 4800\n",
    "Latg = np.arange(max(LLroi['Lat'][IDX]))[::-1] - DDeg\n",
    "Long = np.arange(min(LLroi['Lon'][IDX]), max(LLroi['Lon'][IDX]), DDeg)\n",
    "LLg_Lat, LLg_Lon = np.meshgrid(Latg, Long)\n",
    "\n",
    "# ■ 離散データを投影\n",
    "from scipy.interpolate import griddata\n",
    "\n",
    "points = np.column_stack((LLroi['Lat'][IDX].flatten(), LLroi['Lon'][IDX].flatten()))\n",
    "values = Data0[IDX].flatten()\n",
    "Data2 = griddata(points, values, (LLg_Lat, LLg_Lon), method='linear')\n",
    "\n",
    "# ■ 画像表示\n",
    "plt.imshow(Data2, extent=[Long[0], Long[-1], Latg[-1], Latg[0]], vmin=300, vmax=320, aspect='auto', cmap='jet')\n",
    "plt.colorbar()\n",
    "plt.show()"
   ]
  }
 ],
 "metadata": {
  "kernelspec": {
   "display_name": "Python 3 (ipykernel)",
   "language": "python",
   "name": "python3"
  },
  "language_info": {
   "codemirror_mode": {
    "name": "ipython",
    "version": 3
   },
   "file_extension": ".py",
   "mimetype": "text/x-python",
   "name": "python",
   "nbconvert_exporter": "python",
   "pygments_lexer": "ipython3",
   "version": "3.10.12"
  }
 },
 "nbformat": 4,
 "nbformat_minor": 5
}
